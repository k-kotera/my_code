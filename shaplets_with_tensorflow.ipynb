{
  "nbformat": 4,
  "nbformat_minor": 0,
  "metadata": {
    "colab": {
      "name": "shaplets_with_tensorflow.ipynb",
      "version": "0.3.2",
      "provenance": [],
      "collapsed_sections": [],
      "include_colab_link": true
    },
    "kernelspec": {
      "name": "python3",
      "display_name": "Python 3"
    }
  },
  "cells": [
    {
      "cell_type": "markdown",
      "metadata": {
        "id": "view-in-github",
        "colab_type": "text"
      },
      "source": [
        "<a href=\"https://colab.research.google.com/github/k-kotera/my_code/blob/master/shaplets_with_tensorflow.ipynb\" target=\"_parent\"><img src=\"https://colab.research.google.com/assets/colab-badge.svg\" alt=\"Open In Colab\"/></a>"
      ]
    },
    {
      "metadata": {
        "id": "Kx-YdDNUT5xL",
        "colab_type": "code",
        "colab": {
          "base_uri": "https://localhost:8080/",
          "height": 34
        },
        "outputId": "9a14347d-c1df-4951-9ef7-dc41f0bd56c9"
      },
      "cell_type": "code",
      "source": [
        "import tensorflow as tf\n",
        "import numpy as np\n",
        "from scipy.io import arff\n",
        "import matplotlib.pyplot as plt\n",
        "from keras.utils import to_categorical"
      ],
      "execution_count": 3,
      "outputs": [
        {
          "output_type": "stream",
          "text": [
            "Using TensorFlow backend.\n"
          ],
          "name": "stderr"
        }
      ]
    },
    {
      "metadata": {
        "id": "6Or5fN5sUH5i",
        "colab_type": "code",
        "colab": {}
      },
      "cell_type": "code",
      "source": [
        "from keras.datasets import mnist\n",
        "(x_train, y_train), (x_test, y_test) = mnist.load_data()"
      ],
      "execution_count": 0,
      "outputs": []
    },
    {
      "metadata": {
        "id": "Gc9rUNkVUMHQ",
        "colab_type": "code",
        "colab": {
          "base_uri": "https://localhost:8080/",
          "height": 34
        },
        "outputId": "a2783599-8f81-49a2-9812-c43fb3480193"
      },
      "cell_type": "code",
      "source": [
        "x_train.shape"
      ],
      "execution_count": 5,
      "outputs": [
        {
          "output_type": "execute_result",
          "data": {
            "text/plain": [
              "(60000, 28, 28)"
            ]
          },
          "metadata": {
            "tags": []
          },
          "execution_count": 5
        }
      ]
    },
    {
      "metadata": {
        "id": "f_R5G53gVNfk",
        "colab_type": "code",
        "colab": {}
      },
      "cell_type": "code",
      "source": [
        "train_dataset, train_meta = arff.loadarff(\"ECGFiveDays_TRAIN.arff\")\n",
        "test_dataset, test_meta = arff.loadarff(\"ECGFiveDays_TEST.arff\")\n",
        "\n",
        "trds=np.asarray(train_dataset.tolist(), dtype=np.float32)\n",
        "Len_data = trds.shape[1]\n",
        "\n",
        "y_train=np.asarray(trds[:,Len_data-1].tolist(), dtype=np.int16)\n",
        "X_train=trds[:, :Len_data-1]\n",
        "teds=np.asarray(test_dataset.tolist(), dtype=np.float32)\n",
        "y_test=np.asarray(teds[:,Len_data-1].tolist(), dtype=np.int16)\n",
        "X_test=teds[:, :Len_data-1]\n",
        "\n",
        "num_classes = len(set(y_train))\n",
        "\n",
        "y_train_c = to_categorical(y_train-1, num_classes)\n",
        "y_test_c = to_categorical(y_test-1, num_classes)"
      ],
      "execution_count": 0,
      "outputs": []
    },
    {
      "metadata": {
        "id": "CckMh_LrVxRf",
        "colab_type": "code",
        "colab": {
          "base_uri": "https://localhost:8080/",
          "height": 34
        },
        "outputId": "4264ebfa-89e2-4b70-a255-cbce93bcd551"
      },
      "cell_type": "code",
      "source": [
        "X_train.shape"
      ],
      "execution_count": 7,
      "outputs": [
        {
          "output_type": "execute_result",
          "data": {
            "text/plain": [
              "(23, 136)"
            ]
          },
          "metadata": {
            "tags": []
          },
          "execution_count": 7
        }
      ]
    },
    {
      "metadata": {
        "id": "_qoaohj6a5pE",
        "colab_type": "code",
        "colab": {}
      },
      "cell_type": "code",
      "source": [
        "n_shapelets = 10\n",
        "x = tf.placeholder(tf.float32, name='x')\n",
        "#x = tf.convert_to_tensor(X_train)\n",
        "x_r = tf.reshape(x,[23,136,1])\n",
        "x_1 = tf.nn.conv1d(x_r, tf.reshape(tf.eye(20),[20,1,20]), stride=1, padding='VALID')\n",
        "\n",
        "shapelets_kernel = tf.Variable(tf.truncated_normal([n_shapelets, 20], mean=0.0, stddev=0.1))\n",
        "\n",
        "x_sq = tf.expand_dims(tf.reduce_sum(x_1 ** 2, axis=2), axis=-1)\n",
        "y_sq = tf.reshape(tf.reduce_sum(shapelets_kernel ** 2, axis=1), (1, 1, n_shapelets))\n",
        "xy = tf.keras.backend.dot(x_1, tf.transpose(shapelets_kernel))\n",
        "x_2 = x_sq + y_sq - 2 * xy\n",
        "\n",
        "x_3 = tf.reduce_min(x_2,axis = 1)\n",
        "\n",
        "w_1 = tf.Variable(tf.zeros([n_shapelets, num_classes]))\n",
        "b_1 = tf.Variable([0.1] * num_classes)\n",
        "\n",
        "x_4 = tf.matmul(x_3, w_1) + b_1\n",
        "\n",
        "y_1 = tf.nn.softmax(x_4)"
      ],
      "execution_count": 0,
      "outputs": []
    },
    {
      "metadata": {
        "id": "wNksk4IIbWN1",
        "colab_type": "code",
        "colab": {}
      },
      "cell_type": "code",
      "source": [
        "# 正解ラベルy_train_c\n",
        "labels = tf.placeholder(tf.float32, name='labels')\n",
        "# 損失関数（交差エントロピー）と最適化処理（Adam）\n",
        "loss = tf.losses.softmax_cross_entropy(labels,y_1)\n",
        "optimizer = tf.train.AdamOptimizer().minimize(loss)"
      ],
      "execution_count": 0,
      "outputs": []
    },
    {
      "metadata": {
        "id": "iW5jGFafk2eB",
        "colab_type": "code",
        "colab": {}
      },
      "cell_type": "code",
      "source": [
        "prediction_match = tf.equal(tf.argmax(y_1, axis=1), tf.argmax(labels, axis=1))\n",
        "accuracy = tf.reduce_mean(tf.cast(prediction_match, tf.float32), name='accuracy')"
      ],
      "execution_count": 0,
      "outputs": []
    },
    {
      "metadata": {
        "id": "mzpiLgIelGHh",
        "colab_type": "code",
        "colab": {
          "base_uri": "https://localhost:8080/",
          "height": 248
        },
        "outputId": "09a6ece9-5092-4113-96ad-d6b814a92983"
      },
      "cell_type": "code",
      "source": [
        "# 学習の実行\n",
        "sess = tf.InteractiveSession()\n",
        "sess.run(tf.global_variables_initializer())\n",
        "\n",
        "for i in range(10000):\n",
        "  my_feed_dict = {x: X_train, labels: y_train_c.astype(float)}\n",
        "  \n",
        "  if i % 1000 == 0:\n",
        "    train_accuracy = accuracy.eval(feed_dict=my_feed_dict)\n",
        "    loss_e = loss.eval(feed_dict=my_feed_dict)\n",
        "    print('step {:d}, accuracy {:.2f}, loss {:.2f}'.format(i, train_accuracy, loss_e))\n",
        "  \n",
        "  optimizer.run(feed_dict=my_feed_dict)"
      ],
      "execution_count": 56,
      "outputs": [
        {
          "output_type": "stream",
          "text": [
            "/usr/local/lib/python3.6/dist-packages/tensorflow/python/client/session.py:1702: UserWarning: An interactive session is already active. This can cause out-of-memory errors in some cases. You must explicitly call `InteractiveSession.close()` to release resources held by the other session(s).\n",
            "  warnings.warn('An interactive session is already active. This can '\n"
          ],
          "name": "stderr"
        },
        {
          "output_type": "stream",
          "text": [
            "step 0, accuracy 0.61, loss 0.69\n",
            "step 1000, accuracy 1.00, loss 0.39\n",
            "step 2000, accuracy 1.00, loss 0.33\n",
            "step 3000, accuracy 1.00, loss 0.32\n",
            "step 4000, accuracy 1.00, loss 0.32\n",
            "step 5000, accuracy 1.00, loss 0.31\n",
            "step 6000, accuracy 1.00, loss 0.31\n",
            "step 7000, accuracy 1.00, loss 0.31\n",
            "step 8000, accuracy 1.00, loss 0.31\n",
            "step 9000, accuracy 1.00, loss 0.31\n"
          ],
          "name": "stdout"
        }
      ]
    },
    {
      "metadata": {
        "id": "pmrSkIxepOIs",
        "colab_type": "code",
        "colab": {}
      },
      "cell_type": "code",
      "source": [
        ""
      ],
      "execution_count": 0,
      "outputs": []
    },
    {
      "metadata": {
        "id": "M6RDCGnfoiBP",
        "colab_type": "code",
        "colab": {
          "base_uri": "https://localhost:8080/",
          "height": 105
        },
        "outputId": "ca45b1ab-af5a-4632-9f9b-834275be16bf"
      },
      "cell_type": "code",
      "source": [
        "for i in range(5000):\n",
        "  my_feed_dict = {x: X_train, labels: y_train_c.astype(float)}\n",
        "  \n",
        "  if i % 1000 == 0:\n",
        "    train_accuracy = accuracy.eval(feed_dict=my_feed_dict)\n",
        "    loss_e = loss.eval(feed_dict=my_feed_dict)\n",
        "    print('step {:d}, accuracy {:.2f}, loss {:.2f}'.format(i, train_accuracy, loss_e))\n",
        "  \n",
        "  optimizer.run(feed_dict=my_feed_dict)"
      ],
      "execution_count": 49,
      "outputs": [
        {
          "output_type": "stream",
          "text": [
            "step 0, accuracy 0.96, loss 0.40\n",
            "step 1000, accuracy 0.96, loss 0.39\n",
            "step 2000, accuracy 0.96, loss 0.38\n",
            "step 3000, accuracy 0.96, loss 0.38\n",
            "step 4000, accuracy 0.96, loss 0.38\n"
          ],
          "name": "stdout"
        }
      ]
    },
    {
      "metadata": {
        "id": "OA6NfxkinPlN",
        "colab_type": "code",
        "colab": {
          "base_uri": "https://localhost:8080/",
          "height": 365
        },
        "outputId": "eac0dd7e-db29-4c29-c880-f6a072d5e616"
      },
      "cell_type": "code",
      "source": [
        "plt.plot(shapelets_kernel.eval()[2])"
      ],
      "execution_count": 52,
      "outputs": [
        {
          "output_type": "execute_result",
          "data": {
            "text/plain": [
              "[<matplotlib.lines.Line2D at 0x7f7d0aa996d8>]"
            ]
          },
          "metadata": {
            "tags": []
          },
          "execution_count": 52
        },
        {
          "output_type": "display_data",
          "data": {
            "image/png": "[encoded data removed]",
            "text/plain": [
              "<Figure size 576x396 with 1 Axes>"
            ]
          },
          "metadata": {
            "tags": []
          }
        }
      ]
    },
    {
      "metadata": {
        "id": "mImEjETbVbaG",
        "colab_type": "code",
        "colab": {
          "base_uri": "https://localhost:8080/",
          "height": 34
        },
        "outputId": "78519c2f-23b2-469e-86e0-e631dc761b5f"
      },
      "cell_type": "code",
      "source": [
        "from google.colab import drive\n",
        "drive.mount('/content/drive')"
      ],
      "execution_count": 1,
      "outputs": [
        {
          "output_type": "stream",
          "text": [
            "Drive already mounted at /content/drive; to attempt to forcibly remount, call drive.mount(\"/content/drive\", force_remount=True).\n"
          ],
          "name": "stdout"
        }
      ]
    },
    {
      "metadata": {
        "id": "PkM5YYMKVbzY",
        "colab_type": "code",
        "colab": {
          "base_uri": "https://localhost:8080/",
          "height": 34
        },
        "outputId": "33a0809e-e146-464d-a6bf-ce08dd10d1b7"
      },
      "cell_type": "code",
      "source": [
        "cd drive/My Drive"
      ],
      "execution_count": 2,
      "outputs": [
        {
          "output_type": "stream",
          "text": [
            "/content/drive/My Drive\n"
          ],
          "name": "stdout"
        }
      ]
    },
    {
      "metadata": {
        "id": "-tHJ6cbpb1FH",
        "colab_type": "code",
        "colab": {}
      },
      "cell_type": "code",
      "source": [
        ""
      ],
      "execution_count": 0,
      "outputs": []
    }
  ]
}