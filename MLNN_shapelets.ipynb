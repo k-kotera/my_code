{
  "nbformat": 4,
  "nbformat_minor": 0,
  "metadata": {
    "colab": {
      "name": "MLNN_shapelets.ipynb",
      "version": "0.3.2",
      "provenance": [],
      "collapsed_sections": [],
      "include_colab_link": true
    },
    "kernelspec": {
      "name": "python3",
      "display_name": "Python 3"
    },
    "accelerator": "GPU"
  },
  "cells": [
    {
      "cell_type": "markdown",
      "metadata": {
        "id": "view-in-github",
        "colab_type": "text"
      },
      "source": [
        "<a href=\"https://colab.research.google.com/github/k-kotera/my_code/blob/master/MLNN_shapelets.ipynb\" target=\"_parent\"><img src=\"https://colab.research.google.com/assets/colab-badge.svg\" alt=\"Open In Colab\"/></a>"
      ]
    },
    {
      "metadata": {
        "id": "h8hNg1A0KIjp",
        "colab_type": "text"
      },
      "cell_type": "markdown",
      "source": [
        "# Learning Multivariate Shapelets with Multi-Layer Neural Networks\n",
        "LTS(Learning Time-series Shapelets)では分類にロジスティクス回帰を用いるが、それをディープニューラルネットに置き換える。\n",
        "\n",
        "#### 参考\n",
        "①Roberto Medico, Joeri Ruyssinck, Dirk Deschrijver, Tom Dhaene.\n",
        "Learning Multivariate Shapelets with Multi-Layer Neural Networks.\n",
        "Advanced Course on Data Science & Machine Learning (ACDL) 2018.<br>\n",
        "②Grabocka, J., Schilling, N., Wistuba, M. and SchmidtThieme, L.: Learning Time-series Shapelets, Proceedings of the 20th ACM SIGKDD International Conference on Knowledge Discovery and Data Mining, KDD\n",
        "’14, ACM, pp. 392–401 (2014).\n"
      ]
    },
    {
      "metadata": {
        "id": "1PWg7_wjNDvx",
        "colab_type": "code",
        "colab": {}
      },
      "cell_type": "code",
      "source": [
        "#使用するモジュール\n",
        "from keras.models import Model\n",
        "from keras import regularizers\n",
        "from keras.layers import Dense, Conv1D, Layer, Input, BatchNormalization, Dropout\n",
        "from keras.metrics import categorical_accuracy, categorical_crossentropy\n",
        "from keras.utils import to_categorical\n",
        "from keras.optimizers import Adam\n",
        "import keras.backend as K\n",
        "from keras.engine import InputSpec\n",
        "import numpy as np\n",
        "from scipy.io import arff\n",
        "import matplotlib.pyplot as plt\n",
        "import tensorflow as tf\n",
        "\n",
        "from keras.initializers import Initializer\n",
        "from tslearn.clustering import TimeSeriesKMeans\n",
        "from tslearn.utils import to_time_series_dataset"
      ],
      "execution_count": 0,
      "outputs": []
    },
    {
      "metadata": {
        "id": "o_fG8qLfnbJ5",
        "colab_type": "text"
      },
      "cell_type": "markdown",
      "source": [
        "### データを読み込み（事前にデータセットをカレントディレクトリに置くこと）"
      ]
    },
    {
      "metadata": {
        "id": "mUQUWFZClEsH",
        "colab_type": "code",
        "colab": {}
      },
      "cell_type": "code",
      "source": [
        "train_dataset, train_meta = arff.loadarff(\"ECGFiveDays_TRAIN.arff\")\n",
        "test_dataset, test_meta = arff.loadarff(\"ECGFiveDays_TEST.arff\")\n",
        "\n",
        "trds=np.asarray(train_dataset.tolist(), dtype=np.float32)\n",
        "Len_data = trds.shape[1]\n",
        "\n",
        "y_train=np.asarray(trds[:,Len_data-1].tolist(), dtype=np.int16)\n",
        "X_train=trds[:, :Len_data-1]\n",
        "teds=np.asarray(test_dataset.tolist(), dtype=np.float32)\n",
        "y_test=np.asarray(teds[:,Len_data-1].tolist(), dtype=np.int16)\n",
        "X_test=teds[:, :Len_data-1]\n",
        "\n",
        "num_classes = len(set(y_train))\n",
        "\n",
        "y_train_c = to_categorical(y_train-1, num_classes)\n",
        "y_test_c = to_categorical(y_test-1, num_classes)"
      ],
      "execution_count": 0,
      "outputs": []
    },
    {
      "metadata": {
        "id": "V-GORQbMoBPB",
        "colab_type": "code",
        "colab": {}
      },
      "cell_type": "code",
      "source": [
        "#正規化\n",
        "from tslearn.preprocessing import TimeSeriesScalerMinMax\n",
        "X_train_norm = TimeSeriesScalerMinMax().fit_transform(X_train)\n",
        "X_test_norm = TimeSeriesScalerMinMax().fit_transform(X_test)"
      ],
      "execution_count": 0,
      "outputs": []
    },
    {
      "metadata": {
        "id": "0iZxPTKlNwoT",
        "colab_type": "text"
      },
      "cell_type": "markdown",
      "source": [
        "### カスタムレイヤーおよびカスタム初期化関数定義"
      ]
    },
    {
      "metadata": {
        "id": "0jHItpjkNtA9",
        "colab_type": "code",
        "colab": {}
      },
      "cell_type": "code",
      "source": [
        "class  SoftMinimum(Layer):\n",
        "    def __init__(self, alpha = -100, **kwargs):\n",
        "        self.alpha = alpha\n",
        "        super(SoftMinimum, self).__init__(**kwargs)\n",
        "        #self.input_spec = InputSpec(ndim=3)\n",
        "\n",
        "    def compute_output_shape(self, input_shape):\n",
        "        return input_shape[0], input_shape[2]\n",
        "\n",
        "    def call(self, inputs, **kwargs):\n",
        "        E = tf.exp(self.alpha*inputs) + 1e-07\n",
        "        Denom = tf.reduce_sum(E,axis=1)\n",
        "        Numer = tf.reduce_sum(tf.multiply(E,inputs),axis=1)\n",
        "        \n",
        "        return tf.divide(Numer,Denom)\n",
        "      \n",
        "\n",
        "class GlobalMinPooling1D(Layer):\n",
        "    def __init__(self, **kwargs):\n",
        "        super(GlobalMinPooling1D, self).__init__(**kwargs)\n",
        "        self.input_spec = InputSpec(ndim=3)\n",
        "\n",
        "    def compute_output_shape(self, input_shape):\n",
        "        return input_shape[0], input_shape[2]\n",
        "\n",
        "    def call(self, inputs, **kwargs):\n",
        "        return K.min(inputs, axis=1)\n",
        "\n",
        "class GlobalArgminPooling1D(Layer):\n",
        "    def __init__(self, **kwargs):\n",
        "        super(GlobalArgminPooling1D, self).__init__(**kwargs)\n",
        "        self.input_spec = InputSpec(ndim=3)\n",
        "\n",
        "    def compute_output_shape(self, input_shape):\n",
        "        return input_shape[0], input_shape[2]\n",
        "\n",
        "    def call(self, inputs, **kwargs):\n",
        "        return K.cast(K.argmin(inputs, axis=1), dtype=K.floatx())\n",
        "\n",
        "class LocalSquaredDistanceLayer(Layer):\n",
        "    def __init__(self, n_shapelets, X, **kwargs):\n",
        "        self.n_shapelets = n_shapelets\n",
        "        self.initializer = KMeansShapeletInitializer(X)\n",
        "        super(LocalSquaredDistanceLayer, self).__init__(**kwargs)\n",
        "        self.input_spec = InputSpec(ndim=3)\n",
        "\n",
        "    def build(self, input_shape):\n",
        "        self.kernel = self.add_weight(name='kernel',\n",
        "                                      shape=(self.n_shapelets, input_shape[2]),\n",
        "                                      initializer=self.initializer,\n",
        "                                      trainable=True)\n",
        "        super(LocalSquaredDistanceLayer, self).build(input_shape)\n",
        "\n",
        "    def call(self, x, **kwargs):\n",
        "        # (x - y)^2 = x^2 + y^2 - 2 * x * y\n",
        "        x_sq = K.expand_dims(K.sum(x ** 2, axis=2), axis=-1)\n",
        "        y_sq = K.reshape(K.sum(self.kernel ** 2, axis=1), (1, 1, self.n_shapelets))\n",
        "        xy = K.dot(x, K.transpose(self.kernel))\n",
        "        return x_sq + y_sq - 2 * xy\n",
        "\n",
        "    def compute_output_shape(self, input_shape):\n",
        "        return input_shape[0], input_shape[1], self.n_shapelets\n",
        "      \n",
        "      \n",
        "      \n",
        "def _kmeans_init_shapelets(X, n_shapelets, shp_len, n_draw=10000):\n",
        "    n_ts, sz, d = X.shape\n",
        "    indices_ts = np.random.choice(n_ts, size=n_draw, replace=True)\n",
        "    indices_time = np.random.choice(sz - shp_len + 1, size=n_draw, replace=True)\n",
        "    subseries = np.zeros((n_draw, shp_len, d))\n",
        "    for i in range(n_draw):\n",
        "        subseries[i] = X[indices_ts[i], indices_time[i]:indices_time[i] + shp_len]\n",
        "    return TimeSeriesKMeans(n_clusters=n_shapelets,\n",
        "                            metric=\"euclidean\",\n",
        "                            verbose=False).fit(subseries).cluster_centers_\n",
        "\n",
        "\n",
        "class KMeansShapeletInitializer(Initializer):\n",
        "\n",
        "    def __init__(self, X):\n",
        "        self.X_ = to_time_series_dataset(X)\n",
        "\n",
        "    def __call__(self, shape, dtype=None):\n",
        "        n_shapelets, shp_len = shape\n",
        "        shapelets = _kmeans_init_shapelets(self.X_,\n",
        "                                           n_shapelets,\n",
        "                                           shp_len)[:, :, 0]\n",
        "        return K.tensorflow_backend._to_tensor(x=shapelets, dtype=K.floatx())\n",
        "\n",
        "    def get_config(self):\n",
        "        return {'data': self.X_}\n",
        "\n",
        "def init_I(shape, dtype=None):\n",
        "    weights_I = np.empty(shape,dtype=dtype)\n",
        "    for di in range(shape[1]):\n",
        "      weights_I[:, di, :] = np.eye(shape[2])\n",
        "    return weights_I"
      ],
      "execution_count": 0,
      "outputs": []
    },
    {
      "metadata": {
        "id": "J3l_4LduO4Qz",
        "colab_type": "text"
      },
      "cell_type": "markdown",
      "source": [
        "### MLNN_shapeletsの実装"
      ]
    },
    {
      "metadata": {
        "id": "JTmiCvoJPDQz",
        "colab_type": "code",
        "colab": {}
      },
      "cell_type": "code",
      "source": [
        "inputshape = X_train_norm.shape\n",
        "\n",
        "sz = 15 #shapeletsの長さ\n",
        "num_shapelet = 20 #shapeletsの数\n",
        "input_shape = X_train_norm.shape #入力データのシェイプ\n",
        "\n",
        "inputs = Input(shape=(input_shape[1], input_shape[2]), name=\"input\")\n",
        "\n",
        "#以下の3層が1つのDistanceLayer\n",
        "x = Conv1D(filters=sz,\n",
        "           kernel_size=sz,\n",
        "           kernel_initializer=init_I,\n",
        "           trainable=False,\n",
        "           use_bias=False,\n",
        "           name=\"DistanceLayer_1\")(inputs)\n",
        "x_loc = LocalSquaredDistanceLayer(num_shapelet,X=X_train_norm,name=\"DistanceLayer_2\")(x)\n",
        "x = SoftMinimum(name=\"DistanceLayer_3\")(x_loc)\n",
        "\n",
        "x = BatchNormalization()(x)\n",
        "x = Dense(100, activation='relu', name = \"hidden_1\")(x)\n",
        "\n",
        "x = BatchNormalization()(x)\n",
        "x = Dropout(0.5)(x)\n",
        "outputs = Dense(num_classes, activation='softmax',kernel_regularizer=regularizers.l2(0.01), name = \"output\")(x)\n",
        "\n",
        "s_model = Model(inputs=inputs, outputs=outputs)"
      ],
      "execution_count": 0,
      "outputs": []
    },
    {
      "metadata": {
        "id": "JllYkWFoKllY",
        "colab_type": "code",
        "colab": {}
      },
      "cell_type": "code",
      "source": [
        "out_loc = GlobalArgminPooling1D(name=\"for_loc_layer\")(x_loc)\n",
        "model_for_location = Model(inputs=inputs, outputs=out_loc)\n",
        "model_for_location.compile(optimizer=Adam(), loss=\"mean_squared_error\")#後でshapeletsのマッチング位置を確認するためのモデル"
      ],
      "execution_count": 0,
      "outputs": []
    },
    {
      "metadata": {
        "id": "i8fXNjSho_8p",
        "colab_type": "code",
        "outputId": "47fe0cd9-1fb9-484f-e159-731bef9ea3ff",
        "colab": {
          "base_uri": "https://localhost:8080/",
          "height": 442
        }
      },
      "cell_type": "code",
      "source": [
        "s_model.summary()"
      ],
      "execution_count": 55,
      "outputs": [
        {
          "output_type": "stream",
          "text": [
            "_________________________________________________________________\n",
            "Layer (type)                 Output Shape              Param #   \n",
            "=================================================================\n",
            "input (InputLayer)           (None, 136, 1)            0         \n",
            "_________________________________________________________________\n",
            "DistanceLayer_1 (Conv1D)     (None, 122, 15)           225       \n",
            "_________________________________________________________________\n",
            "DistanceLayer_2 (LocalSquare (None, 122, 20)           300       \n",
            "_________________________________________________________________\n",
            "DistanceLayer_3 (SoftMinimum (None, 20)                0         \n",
            "_________________________________________________________________\n",
            "batch_normalization_11 (Batc (None, 20)                80        \n",
            "_________________________________________________________________\n",
            "hidden_1 (Dense)             (None, 100)               2100      \n",
            "_________________________________________________________________\n",
            "batch_normalization_12 (Batc (None, 100)               400       \n",
            "_________________________________________________________________\n",
            "dropout_6 (Dropout)          (None, 100)               0         \n",
            "_________________________________________________________________\n",
            "output (Dense)               (None, 2)                 202       \n",
            "=================================================================\n",
            "Total params: 3,307\n",
            "Trainable params: 2,842\n",
            "Non-trainable params: 465\n",
            "_________________________________________________________________\n"
          ],
          "name": "stdout"
        }
      ]
    },
    {
      "metadata": {
        "id": "CUAtLuTnMDJC",
        "colab_type": "text"
      },
      "cell_type": "markdown",
      "source": [
        "DistanceLayerは3つまとめて論文のDistanceLayer。\n",
        "1層目で入力データをスライディング窓サイズ=shapelets_lengthでずらし続けたものを並べて行列として出力。2層目は各shapeletに対する距離Dを計算。3層目でそれらのミニマムを取り、ニューラルネットへの入力であるMを得る。\n",
        "以後は普通のDNN。"
      ]
    },
    {
      "metadata": {
        "id": "lu-XwGW1LwvS",
        "colab_type": "text"
      },
      "cell_type": "markdown",
      "source": [
        "### モデルのコンパイルと学習"
      ]
    },
    {
      "metadata": {
        "id": "kOIQIqJnohTB",
        "colab_type": "code",
        "colab": {}
      },
      "cell_type": "code",
      "source": [
        "s_model.compile(optimizer=Adam(lr=0.001), loss='categorical_crossentropy',metrics=['accuracy'])"
      ],
      "execution_count": 0,
      "outputs": []
    },
    {
      "metadata": {
        "id": "RTfMQ88N1euj",
        "colab_type": "code",
        "colab": {
          "base_uri": "https://localhost:8080/",
          "height": 34
        },
        "outputId": "f786639c-0583-4146-fd56-16ba1ed72aba"
      },
      "cell_type": "code",
      "source": [
        "s_model.fit(X_train_norm,y_train_c, batch_size=23, epochs=20000,validation_data=(X_test_norm,y_test_c), verbose=0)"
      ],
      "execution_count": 57,
      "outputs": [
        {
          "output_type": "execute_result",
          "data": {
            "text/plain": [
              "<keras.callbacks.History at 0x7fd8ff4ba470>"
            ]
          },
          "metadata": {
            "tags": []
          },
          "execution_count": 57
        }
      ]
    },
    {
      "metadata": {
        "id": "_eStx-qRJd_R",
        "colab_type": "code",
        "outputId": "1b42a50a-4ef5-4991-89c1-465ed86c4aaf",
        "colab": {
          "base_uri": "https://localhost:8080/",
          "height": 85
        }
      },
      "cell_type": "code",
      "source": [
        "print(\"**** TRAIN ****\")\n",
        "print(list(zip(s_model.metrics_names, s_model.evaluate(X_train_norm,y_train_c, verbose=0))))\n",
        "print(\"**** TEST ****\")\n",
        "print(list(zip(s_model.metrics_names, s_model.evaluate(X_test_norm,y_test_c, verbose=0))))"
      ],
      "execution_count": 58,
      "outputs": [
        {
          "output_type": "stream",
          "text": [
            "**** TRAIN ****\n",
            "[('loss', 0.0003229734720662236), ('acc', 1.0)]\n",
            "**** TEST ****\n",
            "[('loss', 0.9349646740674141), ('acc', 0.8153310113529156)]\n"
          ],
          "name": "stdout"
        }
      ]
    },
    {
      "metadata": {
        "id": "4JU_lgoqL5O7",
        "colab_type": "text"
      },
      "cell_type": "markdown",
      "source": [
        "訓練データの精度は簡単に100%行きます。テストデータの精度はGlobalMinPooling1Dを使用で96%程度、SoftMinimum使用で80%～90%程度。\n"
      ]
    },
    {
      "metadata": {
        "id": "sK6HatjZmgpK",
        "colab_type": "code",
        "colab": {}
      },
      "cell_type": "code",
      "source": [
        "#モデルの保存\n",
        "s_model.save_weights('MLNN_shapelets.h5')"
      ],
      "execution_count": 0,
      "outputs": []
    },
    {
      "metadata": {
        "id": "EmsngYKroZSt",
        "colab_type": "code",
        "colab": {}
      },
      "cell_type": "code",
      "source": [
        "#モデルの読み込み\n",
        "s_model.load_weights('MLNN_shapelets.h5')"
      ],
      "execution_count": 0,
      "outputs": []
    },
    {
      "metadata": {
        "id": "fgGIZyFqmwYP",
        "colab_type": "text"
      },
      "cell_type": "markdown",
      "source": [
        "### shapeletの可視化"
      ]
    },
    {
      "metadata": {
        "id": "IM03UBaSm-1G",
        "colab_type": "code",
        "outputId": "4c34993a-8a89-4db7-8e0e-b9ee152c0526",
        "colab": {
          "base_uri": "https://localhost:8080/",
          "height": 347
        }
      },
      "cell_type": "code",
      "source": [
        "test_id = 60#テストデータのID\n",
        "plt.plot(X_test_norm[test_id].ravel(), linewidth=5)\n",
        "\n",
        "\n",
        "tst_shape = X_test_norm[test_id].shape\n",
        "\n",
        "for i in range(0,15):\n",
        "  shpn = i#shapeletのID\n",
        "  shapelet_1 = np.array(model_for_location.get_layer(\"DistanceLayer_2\").get_weights()).reshape(num_shapelet,sz)[shpn]\n",
        "  loc1 = int(model_for_location.predict(X_test_norm[test_id].reshape(1,tst_shape[0],tst_shape[1])).ravel()[shpn])\n",
        "  plt.plot(np.arange(loc1, loc1 + sz), shapelet_1)"
      ],
      "execution_count": 63,
      "outputs": [
        {
          "output_type": "display_data",
          "data": {
            "image/png": "[encoded data removed]",
            "text/plain": [
              "<Figure size 576x396 with 1 Axes>"
            ]
          },
          "metadata": {
            "tags": []
          }
        }
      ]
    },
    {
      "metadata": {
        "id": "KLNfW7CKor-a",
        "colab_type": "code",
        "outputId": "8e402fd5-86fe-4f98-ecb0-831b36c2a035",
        "colab": {
          "base_uri": "https://localhost:8080/",
          "height": 51
        }
      },
      "cell_type": "code",
      "source": [
        "model_for_location.predict(X_test_norm[test_id].reshape(1,tst_shape[0],tst_shape[1])).ravel()"
      ],
      "execution_count": 64,
      "outputs": [
        {
          "output_type": "execute_result",
          "data": {
            "text/plain": [
              "array([56., 34., 44., 41., 34., 52., 47., 33., 40., 80., 50., 56., 43.,\n",
              "       38., 48., 73., 53., 46., 69., 50.], dtype=float32)"
            ]
          },
          "metadata": {
            "tags": []
          },
          "execution_count": 64
        }
      ]
    },
    {
      "metadata": {
        "id": "CWRqpj8JuI6A",
        "colab_type": "text"
      },
      "cell_type": "markdown",
      "source": [
        "全体的に50点目付近の形状の具合で分類の判断をされている模様"
      ]
    },
    {
      "metadata": {
        "id": "IE59ciG7FK7y",
        "colab_type": "text"
      },
      "cell_type": "markdown",
      "source": [
        "### 参考:普通のSVMでの精度"
      ]
    },
    {
      "metadata": {
        "id": "X5iF0ThHFOAg",
        "colab_type": "code",
        "outputId": "8b644fa9-fa49-4899-a7a3-6fb1830e2d7b",
        "colab": {
          "base_uri": "https://localhost:8080/",
          "height": 51
        }
      },
      "cell_type": "code",
      "source": [
        "from sklearn.svm import SVC\n",
        "from sklearn.preprocessing import StandardScaler\n",
        "\n",
        "\n",
        "clf = SVC(gamma='auto')\n",
        "X_svm_trn = X_train.reshape(X_train.shape[0],X_train.shape[1])\n",
        "X_svm_tst = X_test.reshape(X_test.shape[0],X_test.shape[1])\n",
        "                                                      \n",
        "scaler = StandardScaler()\n",
        "scaler.fit(X_svm_trn)\n",
        "                                                        \n",
        "X_train_scaled = scaler.transform(X_svm_trn)\n",
        "X_test_scaled = scaler.transform(X_svm_tst)\n",
        "                                                      \n",
        "clf.fit(X_train_scaled,y_train)\n",
        "print(clf.score(X_train_scaled,y_train))\n",
        "print(clf.score(X_test_scaled,y_test))"
      ],
      "execution_count": 0,
      "outputs": [
        {
          "output_type": "stream",
          "text": [
            "1.0\n",
            "0.8397212543554007\n"
          ],
          "name": "stdout"
        }
      ]
    },
    {
      "metadata": {
        "id": "HAXJ9KpDgZbG",
        "colab_type": "code",
        "colab": {
          "base_uri": "https://localhost:8080/",
          "height": 122
        },
        "outputId": "b51b666a-b9be-4622-b3a5-60df8ca57bac"
      },
      "cell_type": "code",
      "source": [
        "from google.colab import drive\n",
        "drive.mount('/content/drive')"
      ],
      "execution_count": 3,
      "outputs": [
        {
          "output_type": "stream",
          "text": [
            "Go to this URL in a browser: https://accounts.google.com/o/oauth2/auth?client_id=947318989803-6bn6qk8qdgf4n4g3pfee6491hc0brc4i.apps.googleusercontent.com&redirect_uri=urn%3Aietf%3Awg%3Aoauth%3A2.0%3Aoob&scope=email%20https%3A%2F%2Fwww.googleapis.com%2Fauth%2Fdocs.test%20https%3A%2F%2Fwww.googleapis.com%2Fauth%2Fdrive%20https%3A%2F%2Fwww.googleapis.com%2Fauth%2Fdrive.photos.readonly%20https%3A%2F%2Fwww.googleapis.com%2Fauth%2Fpeopleapi.readonly&response_type=code\n",
            "\n",
            "Enter your authorization code:\n",
            "··········\n",
            "Mounted at /content/drive\n"
          ],
          "name": "stdout"
        }
      ]
    },
    {
      "metadata": {
        "id": "R72DaoHGghMt",
        "colab_type": "code",
        "colab": {
          "base_uri": "https://localhost:8080/",
          "height": 34
        },
        "outputId": "12464bf7-a63d-4282-e62f-6cecdfab3aba"
      },
      "cell_type": "code",
      "source": [
        "cd drive/My Drive"
      ],
      "execution_count": 4,
      "outputs": [
        {
          "output_type": "stream",
          "text": [
            "/content/drive/My Drive\n"
          ],
          "name": "stdout"
        }
      ]
    },
    {
      "metadata": {
        "id": "SjmVdwaDgmgm",
        "colab_type": "code",
        "colab": {
          "base_uri": "https://localhost:8080/",
          "height": 238
        },
        "outputId": "da2c7ead-a1de-4a96-9f68-981e539a3590"
      },
      "cell_type": "code",
      "source": [
        "!pip install tslearn"
      ],
      "execution_count": 5,
      "outputs": [
        {
          "output_type": "stream",
          "text": [
            "Collecting tslearn\n",
            "\u001b[?25l  Downloading https://files.pythonhosted.org/packages/88/0b/ffe836dc976a1956a86cec7e37c5a62ad51eaf1a9d78c8d584d87272194f/tslearn-0.1.28.2.tar.gz (587kB)\n",
            "\u001b[K    100% |████████████████████████████████| 593kB 24.0MB/s \n",
            "\u001b[?25hRequirement already satisfied: numpy in /usr/local/lib/python3.6/dist-packages (from tslearn) (1.14.6)\n",
            "Requirement already satisfied: scipy in /usr/local/lib/python3.6/dist-packages (from tslearn) (1.1.0)\n",
            "Requirement already satisfied: scikit-learn in /usr/local/lib/python3.6/dist-packages (from tslearn) (0.20.2)\n",
            "Requirement already satisfied: cython in /usr/local/lib/python3.6/dist-packages (from tslearn) (0.29.5)\n",
            "Building wheels for collected packages: tslearn\n",
            "  Building wheel for tslearn (setup.py) ... \u001b[?25ldone\n",
            "\u001b[?25h  Stored in directory: /root/.cache/pip/wheels/c6/7d/46/0428fa5dc53f09a5f776ea1fef7a5c5abd79ce07393e9ef52d\n",
            "Successfully built tslearn\n",
            "Installing collected packages: tslearn\n",
            "Successfully installed tslearn-0.1.28.2\n"
          ],
          "name": "stdout"
        }
      ]
    }
  ]
}